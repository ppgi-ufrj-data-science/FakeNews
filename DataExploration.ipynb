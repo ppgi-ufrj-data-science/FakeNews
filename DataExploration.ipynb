{
  "nbformat": 4,
  "nbformat_minor": 0,
  "metadata": {
    "colab": {
      "name": "DataExploration.ipynb",
      "provenance": [],
      "collapsed_sections": [],
      "authorship_tag": "ABX9TyMYSRFIbDdgSI0Mnzxu2CYg"
    },
    "kernelspec": {
      "name": "python3",
      "display_name": "Python 3"
    }
  },
  "cells": [
    {
      "cell_type": "markdown",
      "metadata": {
        "id": "9DXdghqxcUJZ"
      },
      "source": [
        "# Abre o DataSet diretamente do GitHub"
      ]
    },
    {
      "cell_type": "code",
      "metadata": {
        "id": "ekyUKGGh8f2j"
      },
      "source": [
        "import pandas as pd\r\n",
        "\r\n",
        "url = \"https://github.com/ppgi-ufrj-data-science/FakeNews/raw/main/in/fake.csv\"\r\n",
        "ds = pd.read_csv(url)\r\n",
        "ds.head()"
      ],
      "execution_count": null,
      "outputs": []
    },
    {
      "cell_type": "markdown",
      "metadata": {
        "id": "zwAQAub-dH3_"
      },
      "source": [
        "# Seleciona registros com dados nulos"
      ]
    },
    {
      "cell_type": "code",
      "metadata": {
        "id": "fQ4L7RhWAWbv"
      },
      "source": [
        "ds[ds.isna().any(axis=1)]"
      ],
      "execution_count": null,
      "outputs": []
    },
    {
      "cell_type": "markdown",
      "metadata": {
        "id": "5PQInSkkdq3f"
      },
      "source": [
        "# Mostra as colunas informando sobre valores nulos"
      ]
    },
    {
      "cell_type": "code",
      "metadata": {
        "id": "2RglXi4fE0-o"
      },
      "source": [
        "ds.isna().any()"
      ],
      "execution_count": null,
      "outputs": []
    },
    {
      "cell_type": "markdown",
      "metadata": {
        "id": "tsVdTngUeKSu"
      },
      "source": [
        "# Lista somente as colunas que possuem valores nulos"
      ]
    },
    {
      "cell_type": "code",
      "metadata": {
        "id": "tftDEVUuF871"
      },
      "source": [
        "ds.columns[ds.isna().any()].tolist()"
      ],
      "execution_count": null,
      "outputs": []
    },
    {
      "cell_type": "markdown",
      "metadata": {
        "id": "jNXW6pnuVj8p"
      },
      "source": [
        "# Mostra as quantidades de registros por país / língua"
      ]
    },
    {
      "cell_type": "code",
      "metadata": {
        "id": "TdiOmTE6VvIV"
      },
      "source": [
        "ds['country'].value_counts()"
      ],
      "execution_count": null,
      "outputs": []
    },
    {
      "cell_type": "code",
      "metadata": {
        "id": "uxTkA-4rWXTb"
      },
      "source": [
        "ds['language'].value_counts()"
      ],
      "execution_count": null,
      "outputs": []
    },
    {
      "cell_type": "markdown",
      "metadata": {
        "id": "gZJOL0S4W0uJ"
      },
      "source": [
        "# Mostra registros com a lígua portuguesa"
      ]
    },
    {
      "cell_type": "code",
      "metadata": {
        "id": "0itxSIb7W5XJ"
      },
      "source": [
        "ds[ds['language'] == 'portuguese']"
      ],
      "execution_count": null,
      "outputs": []
    }
  ]
}