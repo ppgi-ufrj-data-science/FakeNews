{
  "nbformat": 4,
  "nbformat_minor": 0,
  "metadata": {
    "colab": {
      "name": "ReproducibilityProvenance.ipynb",
      "provenance": [],
      "authorship_tag": "ABX9TyMqh5NRUy5xrRZTxxdxaR53"
    },
    "kernelspec": {
      "name": "python3",
      "display_name": "Python 3"
    }
  },
  "cells": [
    {
      "cell_type": "markdown",
      "metadata": {
        "id": "N26tYM8skDaE"
      },
      "source": [
        "# Pré-Requisitos"
      ]
    },
    {
      "cell_type": "markdown",
      "metadata": {
        "id": "RkktDws8uRby"
      },
      "source": [
        "## PROV - https://pypi.org/project/prov/"
      ]
    },
    {
      "cell_type": "code",
      "metadata": {
        "id": "J6Jy23dZuVPO"
      },
      "source": [
        "!pip install prov"
      ],
      "execution_count": null,
      "outputs": []
    },
    {
      "cell_type": "markdown",
      "metadata": {
        "id": "7hKEstIKt4ga"
      },
      "source": [
        "## Sweetviz - https://pypi.org/project/sweetviz/"
      ]
    },
    {
      "cell_type": "code",
      "metadata": {
        "id": "FxSjhW8wkHai"
      },
      "source": [
        "!pip install sweetviz"
      ],
      "execution_count": null,
      "outputs": []
    },
    {
      "cell_type": "markdown",
      "metadata": {
        "id": "ZUJ7D_1miI3f"
      },
      "source": [
        "# Bibliotecas"
      ]
    },
    {
      "cell_type": "code",
      "metadata": {
        "id": "97aNGhY-hDWJ"
      },
      "source": [
        "import sweetviz as sv\r\n",
        "import pandas as pd\r\n",
        "import prov\r\n",
        "import bs4"
      ],
      "execution_count": 18,
      "outputs": []
    },
    {
      "cell_type": "markdown",
      "metadata": {
        "id": "JAxVjNn8woun"
      },
      "source": [
        "# Reprodutibilidade"
      ]
    },
    {
      "cell_type": "markdown",
      "metadata": {
        "id": "7fC9_a3_i7Yp"
      },
      "source": [
        "## Mostra as versões das bibliotecas usadas"
      ]
    },
    {
      "cell_type": "code",
      "metadata": {
        "id": "eF36i0fOiMyC"
      },
      "source": [
        "import sys\r\n",
        "\r\n",
        "print('Versão do Pandas:', pd.__version__)\r\n",
        "print('Versão do Beautiful Soup:', bs4.__version__)\r\n",
        "print('Versão do PROV:', prov.__version__)\r\n",
        "print('Versão do Sweetviz:', sv.__version__)\r\n",
        "print('Versão do Python:', sys.version)"
      ],
      "execution_count": null,
      "outputs": []
    },
    {
      "cell_type": "markdown",
      "metadata": {
        "id": "71rc-9M2rsv9"
      },
      "source": [
        "## Sistema Operacional"
      ]
    },
    {
      "cell_type": "code",
      "metadata": {
        "id": "7Yj11vhdprZH"
      },
      "source": [
        "!cat /etc/os-release"
      ],
      "execution_count": null,
      "outputs": []
    },
    {
      "cell_type": "markdown",
      "metadata": {
        "id": "wua_ucxmsVRJ"
      },
      "source": [
        "### Versão do kernel"
      ]
    },
    {
      "cell_type": "code",
      "metadata": {
        "id": "Dl7XhFABsBjT"
      },
      "source": [
        "!cat /proc/version"
      ],
      "execution_count": null,
      "outputs": []
    },
    {
      "cell_type": "markdown",
      "metadata": {
        "id": "ENh1FZ-aJKgT"
      },
      "source": [
        "### Arquitetura (32 ou 64 bits)"
      ]
    },
    {
      "cell_type": "code",
      "metadata": {
        "id": "Z4KyKtfQJRTB"
      },
      "source": [
        "!lscpu"
      ],
      "execution_count": null,
      "outputs": []
    },
    {
      "cell_type": "markdown",
      "metadata": {
        "id": "wuraH9qKyFYN"
      },
      "source": [
        "# Provenance"
      ]
    },
    {
      "cell_type": "code",
      "metadata": {
        "id": "mFPVVXrQyb1z"
      },
      "source": [
        "# Create a new provenance document\r\n",
        "doc = prov.model.ProvDocument()\r\n",
        "# Declaring namespaces\r\n",
        "doc.set_default_namespace('https://github.com/ppgi-ufrj-data-science/FakeNews')\r\n",
        "doc.add_namespace('kagg', 'https://www.kaggle.com/')\r\n",
        "# Criando entidades\r\n",
        "dataset = doc.entity('kagg:fake-news', {prov.model.PROV_TYPE : 'kagg:dataset', prov.model.PROV_LOCATION : 'https://www.kaggle.com/mrisdal/fake-news',\r\n",
        "                                        'kagg:title' : 'Getting Real about Fake News', 'kagg:resume' : 'Text & metadata from fake & biased news sources around the web',\r\n",
        "                                        'kagg:usability' : '7.1', 'kagg:license' : 'CC0: Public Domain', 'kagg:tags' : 'arts and entertainment, news, politics, languages',\r\n",
        "                                        'kagg:records' : '12.999', 'kagg:columns' : '20'})\r\n",
        "zip = doc.entity('kagg:FakeNewData.zip', {prov.model.PROV_TYPE : 'File', 'kagg:size' : '19.4 MB'})\r\n",
        "csv = doc.entity('kagg:fake.csv', {prov.model.PROV_TYPE : 'File', 'kagg:size' : '54.05 MB'})\r\n",
        "# Criando agentes\r\n",
        "meg = doc.agent('kagg:Meg Risdal', {prov.model.PROV_TYPE : 'prov:Person', 'kagg:position': 'Product Manager', prov.model.PROV_LOCATION : 'Los Angeles, California, United States',\r\n",
        "                                    'kagg:user' : 'mrisdal', 'kagg:profile' : 'https://www.kaggle.com/mrisdal'})\r\n",
        "bsdet = doc.agent('B.S. Detector', {prov.model.PROV_TYPE : 'prov:SoftwareAgent', 'prov:Publisher' : 'The Self Agency, LLC', 'prov:Creator' : 'Daniel Sieradski',\r\n",
        "                                    prov.model.PROV_LOCATION : 'https://addons.mozilla.org/en-US/firefox/addon/bsdetector/'})\r\n",
        "api = doc.agent('webhose.io API', {prov.model.PROV_TYPE : 'prov:SoftwareAgent', 'prov:Publisher' : 'Webhose', prov.model.PROV_LOCATION : 'https://webhose.io/'})\r\n",
        "# Criando atividades\r\n",
        "scrap = doc.activity('kagg:Scrap Text and Metadata', '25/10/2016', '25/11/2016', {'kagg:source' : '244 websites'})\r\n",
        "# Relacionamentos\r\n",
        "doc.wasInfluencedBy(scrap, api)\r\n",
        "doc.wasInfluencedBy(scrap, bsdet)\r\n",
        "scrap.wasAssociatedWith(meg)\r\n",
        "dataset.wasAttributedTo(meg)\r\n",
        "dataset.wasGeneratedBy(scrap)\r\n",
        "zip.wasDerivedFrom(dataset)\r\n",
        "csv.wasDerivedFrom(zip)\r\n",
        "print(doc.get_provn())"
      ],
      "execution_count": null,
      "outputs": []
    },
    {
      "cell_type": "markdown",
      "metadata": {
        "id": "agvaqzZWSh4j"
      },
      "source": [
        "## Gera o gráfico"
      ]
    },
    {
      "cell_type": "code",
      "metadata": {
        "id": "FNNiF6PgSwyp"
      },
      "source": [
        "# Save the provenance graph\r\n",
        "dot = prov.dot.prov_to_dot(doc)\r\n",
        "dot.write_png('fake-news-dataset-prov.png')\r\n",
        "# Visualize the graph file\r\n",
        "from IPython.display import Image\r\n",
        "Image('fake-news-dataset-prov.png')"
      ],
      "execution_count": null,
      "outputs": []
    }
  ]
}