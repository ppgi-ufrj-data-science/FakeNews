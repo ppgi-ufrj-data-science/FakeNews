{
  "nbformat": 4,
  "nbformat_minor": 0,
  "metadata": {
    "colab": {
      "name": "ReproducibilityProvenance.ipynb",
      "provenance": [],
      "authorship_tag": "ABX9TyPY4oZoU8qmf83YuvVj9lrW"
    },
    "kernelspec": {
      "name": "python3",
      "display_name": "Python 3"
    }
  },
  "cells": [
    {
      "cell_type": "markdown",
      "metadata": {
        "id": "N26tYM8skDaE"
      },
      "source": [
        "# Pré-Requisitos"
      ]
    },
    {
      "cell_type": "markdown",
      "metadata": {
        "id": "RkktDws8uRby"
      },
      "source": [
        "## PROV - https://pypi.org/project/prov/"
      ]
    },
    {
      "cell_type": "code",
      "metadata": {
        "id": "J6Jy23dZuVPO"
      },
      "source": [
        "!pip install prov"
      ],
      "execution_count": null,
      "outputs": []
    },
    {
      "cell_type": "markdown",
      "metadata": {
        "id": "7hKEstIKt4ga"
      },
      "source": [
        "## Sweetviz - https://pypi.org/project/sweetviz/"
      ]
    },
    {
      "cell_type": "code",
      "metadata": {
        "id": "FxSjhW8wkHai"
      },
      "source": [
        "!pip install sweetviz"
      ],
      "execution_count": null,
      "outputs": []
    },
    {
      "cell_type": "markdown",
      "metadata": {
        "id": "ZUJ7D_1miI3f"
      },
      "source": [
        "# Bibliotecas"
      ]
    },
    {
      "cell_type": "code",
      "metadata": {
        "id": "97aNGhY-hDWJ"
      },
      "source": [
        "import sweetviz as sv\r\n",
        "import pandas as pd\r\n",
        "import prov\r\n",
        "import bs4"
      ],
      "execution_count": null,
      "outputs": []
    },
    {
      "cell_type": "markdown",
      "metadata": {
        "id": "JAxVjNn8woun"
      },
      "source": [
        "# Reprodutibilidade"
      ]
    },
    {
      "cell_type": "markdown",
      "metadata": {
        "id": "7fC9_a3_i7Yp"
      },
      "source": [
        "## Mostra as versões das bibliotecas usadas"
      ]
    },
    {
      "cell_type": "code",
      "metadata": {
        "id": "eF36i0fOiMyC"
      },
      "source": [
        "import sys\r\n",
        "\r\n",
        "print('Versão do Pandas:', pd.__version__)\r\n",
        "print('Versão do Beautiful Soup:', bs4.__version__)\r\n",
        "print('Versão do PROV:', prov.__version__)\r\n",
        "print('Versão do Sweetviz:', sv.__version__)\r\n",
        "print('Versão do Python:', sys.version)"
      ],
      "execution_count": null,
      "outputs": []
    },
    {
      "cell_type": "markdown",
      "metadata": {
        "id": "71rc-9M2rsv9"
      },
      "source": [
        "## Sistema Operacional"
      ]
    },
    {
      "cell_type": "code",
      "metadata": {
        "id": "7Yj11vhdprZH"
      },
      "source": [
        "!cat /etc/os-release"
      ],
      "execution_count": null,
      "outputs": []
    },
    {
      "cell_type": "markdown",
      "metadata": {
        "id": "wua_ucxmsVRJ"
      },
      "source": [
        "### Versão do kernel"
      ]
    },
    {
      "cell_type": "code",
      "metadata": {
        "id": "Dl7XhFABsBjT"
      },
      "source": [
        "!cat /proc/version"
      ],
      "execution_count": null,
      "outputs": []
    },
    {
      "cell_type": "markdown",
      "metadata": {
        "id": "ENh1FZ-aJKgT"
      },
      "source": [
        "### Arquitetura (32 ou 64 bits)"
      ]
    },
    {
      "cell_type": "code",
      "metadata": {
        "id": "Z4KyKtfQJRTB"
      },
      "source": [
        "!lscpu"
      ],
      "execution_count": null,
      "outputs": []
    },
    {
      "cell_type": "markdown",
      "metadata": {
        "id": "wuraH9qKyFYN"
      },
      "source": [
        "# Provenance"
      ]
    },
    {
      "cell_type": "code",
      "metadata": {
        "id": "mFPVVXrQyb1z"
      },
      "source": [
        "# https://nbviewer.jupyter.org/github/trungdong/notebooks/blob/master/PROV%20Tutorial.ipynb\r\n",
        "from prov.model import ProvDocument\r\n",
        "# Create a new provenance document\r\n",
        "doc = ProvDocument()\r\n",
        "# Declaring namespaces\r\n",
        "doc.add_namespace('prov', 'http://www.w3.org/ns/prov#')\r\n",
        "doc.add_namespace('kagg', 'https://www.kaggle.com/')\r\n",
        "# Criando entidades\r\n",
        "zip = doc.entity('kagg:FakeNewData.zip')\r\n",
        "csv = doc.entity('kagg:fake.csv')\r\n",
        "# Criando agentes\r\n",
        "meg = doc.agent('kagg:Meg Risdal')\r\n",
        "# https://www.kaggle.com/mrisdal/fake-news"
      ],
      "execution_count": 12,
      "outputs": []
    }
  ]
}